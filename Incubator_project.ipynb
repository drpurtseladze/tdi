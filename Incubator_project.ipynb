{
 "cells": [
  {
   "cell_type": "code",
   "execution_count": 1,
   "metadata": {},
   "outputs": [
    {
     "name": "stderr",
     "output_type": "stream",
     "text": [
      "Using TensorFlow backend.\n"
     ]
    }
   ],
   "source": [
    "import numpy as np\n",
    "import matplotlib.pyplot as plt\n",
    "from keras.models import Sequential\n",
    "from keras.layers import Dense, Activation, Conv2D, MaxPooling2D, Flatten, BatchNormalization, Dropout\n",
    "from keras.optimizers import SGD\n",
    "import os\n",
    "import cv2\n",
    "from sklearn.model_selection import train_test_split\n",
    "from sklearn.preprocessing import LabelBinarizer\n",
    "from sklearn.metrics import classification_report\n",
    "from sklearn.metrics import confusion_matrix\n",
    "from sklearn.metrics import roc_curve"
   ]
  },
  {
   "cell_type": "code",
   "execution_count": 2,
   "metadata": {},
   "outputs": [
    {
     "name": "stdout",
     "output_type": "stream",
     "text": [
      "Loaded Healthy cell data\n",
      "Loaded Infected cell data\n"
     ]
    }
   ],
   "source": [
    "data = []\n",
    "labels = []\n",
    "\n",
    "\n",
    "dims=(32,32)\n",
    "\n",
    "imgp=\"c:/data/cells/\"\n",
    "\n",
    "\n",
    "forced_numimg=10000\n",
    "\n",
    "image_path=imgp+\"healthy/\"\n",
    "p=os.listdir(image_path)\n",
    "num_img=len(p)\n",
    "\n",
    "if forced_numimg>0:\n",
    "    num_img=forced_numimg\n",
    "for i in range(num_img):\n",
    "    current_path=image_path+p[i]\n",
    "    #print(current_path)\n",
    "    image = cv2.imread(image_path+p[i])\n",
    "    image = cv2.resize(image,dims)\n",
    "    data.append(image)\n",
    "    labels.append('healthy')\n",
    "\n",
    "print('Loaded Healthy cell data')\n",
    "\n",
    "if forced_numimg>0:\n",
    "    num_img=forced_numimg\n",
    "image_path=imgp+\"infected/\"\n",
    "p=os.listdir(image_path)    \n",
    "for i in range(num_img):\n",
    "    current_path=image_path+p[i]\n",
    "    #print(current_path)\n",
    "    image = cv2.imread(image_path+p[i])\n",
    "    image = cv2.resize(image,dims)\n",
    "    data.append(image)\n",
    "    labels.append('infected')\n",
    "    \n",
    "print('Loaded Infected cell data')\n"
   ]
  },
  {
   "cell_type": "code",
   "execution_count": 3,
   "metadata": {},
   "outputs": [],
   "source": [
    "data = np.array(data, dtype=\"float\") / 255.0\n",
    "labels = np.array(labels)\n",
    "\n",
    "lb = LabelBinarizer()\n",
    "labels = lb.fit_transform(labels)\n",
    "\n",
    "(trainX, testX, trainY, testY) = train_test_split(data,\n",
    "\tlabels, test_size=0.25, random_state=7)\n",
    "\n",
    "model = Sequential()\n",
    "\n",
    "\n",
    "\n",
    "chanDim=-1\n",
    "\n",
    "model.add(Conv2D(64, (3, 3), padding=\"same\"))\n",
    "model.add(Activation(\"relu\"))\n",
    "model.add(BatchNormalization(axis=chanDim))\n",
    "#model.add(Conv2D(64, (3, 3), padding=\"same\"))\n",
    "#model.add(Activation(\"relu\"))\n",
    "#model.add(BatchNormalization(axis=chanDim))\n",
    "model.add(MaxPooling2D(pool_size=(2, 2),strides=(2, 2)))\n",
    "#model.add(Dropout(0.25))\n",
    "\n",
    "\n",
    "model.add(Flatten())\n",
    "\n",
    "\n",
    "\n",
    "\n",
    "model.add(Dense(1024, activation=\"sigmoid\"))\n",
    "model.add(Dense(512, activation=\"sigmoid\"))\n",
    "model.add(Dense(256, activation=\"sigmoid\"))\n",
    "model.add(Dense(1, activation=\"sigmoid\"))"
   ]
  },
  {
   "cell_type": "code",
   "execution_count": 9,
   "metadata": {},
   "outputs": [
    {
     "name": "stdout",
     "output_type": "stream",
     "text": [
      "[INFO] training network...\n",
      "Train on 15000 samples, validate on 5000 samples\n",
      "Epoch 1/10\n",
      "15000/15000 [==============================] - 288s 19ms/step - loss: 0.4672 - acc: 0.7833 - val_loss: 0.4892 - val_acc: 0.7740\n",
      "Epoch 2/10\n",
      "15000/15000 [==============================] - 296s 20ms/step - loss: 0.4083 - acc: 0.8144 - val_loss: 0.3751 - val_acc: 0.8276\n",
      "Epoch 3/10\n",
      "15000/15000 [==============================] - 284s 19ms/step - loss: 0.3188 - acc: 0.8659 - val_loss: 0.4741 - val_acc: 0.7902\n",
      "Epoch 4/10\n",
      "15000/15000 [==============================] - 285s 19ms/step - loss: 0.2841 - acc: 0.8819 - val_loss: 0.8411 - val_acc: 0.6552\n",
      "Epoch 5/10\n",
      "15000/15000 [==============================] - 281s 19ms/step - loss: 0.2226 - acc: 0.9107 - val_loss: 0.4501 - val_acc: 0.8366\n",
      "Epoch 6/10\n",
      "15000/15000 [==============================] - 274s 18ms/step - loss: 0.1766 - acc: 0.9329 - val_loss: 0.4732 - val_acc: 0.8400\n",
      "Epoch 7/10\n",
      "15000/15000 [==============================] - 266s 18ms/step - loss: 0.1432 - acc: 0.9464 - val_loss: 2.3731 - val_acc: 0.5236\n",
      "Epoch 8/10\n",
      "15000/15000 [==============================] - 264s 18ms/step - loss: 0.1247 - acc: 0.9529 - val_loss: 2.8832 - val_acc: 0.5174\n",
      "Epoch 9/10\n",
      "15000/15000 [==============================] - 263s 18ms/step - loss: 0.1032 - acc: 0.9627 - val_loss: 0.5324 - val_acc: 0.8216\n",
      "Epoch 10/10\n",
      "15000/15000 [==============================] - 260s 17ms/step - loss: 0.0808 - acc: 0.9706 - val_loss: 0.4128 - val_acc: 0.8906\n",
      "[INFO] evaluating network...\n"
     ]
    }
   ],
   "source": [
    "INIT_LR = 0.05\n",
    "EPOCHS = 10\n",
    "# compile the model using SGD as our optimizer and categorical\n",
    "# cross-entropy loss (you'll want to use binary_crossentropy\n",
    "# for 2-class classification)\n",
    "print(\"[INFO] training network...\")\n",
    "opt = SGD(lr=INIT_LR)\n",
    "model.compile(loss=\"binary_crossentropy\", optimizer='adam',\n",
    "\tmetrics=[\"accuracy\"])\n",
    "\n",
    "H = model.fit(trainX, trainY, validation_data=(testX, testY),\n",
    "\tepochs=EPOCHS, batch_size=32)\n",
    "\n",
    "\n",
    "# evaluate the network\n",
    "print(\"[INFO] evaluating network...\")\n",
    "pred = model.predict(testX, batch_size=32)\n",
    "\n",
    "for i in range(len(pred)):\n",
    "    if pred[i]>0.5:\n",
    "        pred[i]=1\n",
    "    else:\n",
    "        pred[i]=0\n",
    "\n",
    "cm=confusion_matrix(testY,pred)"
   ]
  },
  {
   "cell_type": "code",
   "execution_count": 14,
   "metadata": {},
   "outputs": [
    {
     "data": {
      "text/plain": [
       "<matplotlib.legend.Legend at 0x162bb465e48>"
      ]
     },
     "execution_count": 14,
     "metadata": {},
     "output_type": "execute_result"
    },
    {
     "data": {
      "image/png": "[encoded data removed]",
      "text/plain": [
       "<Figure size 432x288 with 1 Axes>"
      ]
     },
     "metadata": {},
     "output_type": "display_data"
    }
   ],
   "source": [
    "pred = model.predict(testX, batch_size=32)\n",
    "\n",
    "for i in range(len(pred)):\n",
    "    if pred[i]>0.5:\n",
    "        pred[i]=1\n",
    "    else:\n",
    "        pred[i]=0\n",
    "\n",
    "cm=confusion_matrix(testY,pred)\n",
    "#print(classification_report(testY,predictions))\n",
    " \n",
    "# plot the training loss and accuracy\n",
    "N = np.arange(0, EPOCHS)\n",
    "plt.style.use(\"ggplot\")\n",
    "plt.figure()\n",
    "#plt.plot(N, H.history[\"loss\"], label=\"train_loss\")\n",
    "#plt.plot(N, H.history[\"val_loss\"], label=\"val_loss\")\n",
    "plt.plot(N, H.history[\"acc\"], label=\"training_acc\")\n",
    "plt.plot(N, H.history[\"val_acc\"], label=\"validation_acc\")\n",
    "plt.title(\"Training/Validation Accuracy\")\n",
    "plt.xlabel(\"Epoch #\")\n",
    "plt.ylabel(\"Accuracy\")\n",
    "plt.legend()\n"
   ]
  },
  {
   "cell_type": "code",
   "execution_count": 15,
   "metadata": {},
   "outputs": [
    {
     "data": {
      "text/plain": [
       "<Figure size 432x288 with 0 Axes>"
      ]
     },
     "metadata": {},
     "output_type": "display_data"
    }
   ],
   "source": [
    "plt.savefig('accuracy.png')"
   ]
  },
  {
   "cell_type": "code",
   "execution_count": 23,
   "metadata": {},
   "outputs": [],
   "source": [
    "predprob=model.predict(testX, batch_size=32)\n"
   ]
  },
  {
   "cell_type": "code",
   "execution_count": 26,
   "metadata": {},
   "outputs": [
    {
     "data": {
      "text/plain": [
       "Text(0, 0.5, 'True Positive Rate')"
      ]
     },
     "execution_count": 26,
     "metadata": {},
     "output_type": "execute_result"
    },
    {
     "data": {
      "image/png": "[encoded data removed]",
      "text/plain": [
       "<Figure size 432x288 with 1 Axes>"
      ]
     },
     "metadata": {},
     "output_type": "display_data"
    }
   ],
   "source": [
    "fpr, tpr, t =roc_curve(testY,predprob)\n",
    "plt.plot(fpr, tpr)\n",
    "plt.title('ROC')\n",
    "plt.xlabel('False Positive Rate')\n",
    "plt.ylabel('True Positive Rate')"
   ]
  },
  {
   "cell_type": "code",
   "execution_count": 27,
   "metadata": {},
   "outputs": [
    {
     "data": {
      "text/plain": [
       "array([[2295,  130],\n",
       "       [ 417, 2158]], dtype=int64)"
      ]
     },
     "execution_count": 27,
     "metadata": {},
     "output_type": "execute_result"
    }
   ],
   "source": [
    "cm"
   ]
  },
  {
   "cell_type": "code",
   "execution_count": 29,
   "metadata": {},
   "outputs": [
    {
     "name": "stdout",
     "output_type": "stream",
     "text": [
      "              precision    recall  f1-score   support\n",
      "\n",
      "           0       0.85      0.95      0.89      2425\n",
      "           1       0.94      0.84      0.89      2575\n",
      "\n",
      "   micro avg       0.89      0.89      0.89      5000\n",
      "   macro avg       0.89      0.89      0.89      5000\n",
      "weighted avg       0.90      0.89      0.89      5000\n",
      "\n"
     ]
    }
   ],
   "source": [
    "print(classification_report(testY,pred))"
   ]
  },
  {
   "cell_type": "code",
   "execution_count": null,
   "metadata": {},
   "outputs": [],
   "source": []
  }
 ],
 "metadata": {
  "kernelspec": {
   "display_name": "Python 3",
   "language": "python",
   "name": "python3"
  },
  "language_info": {
   "codemirror_mode": {
    "name": "ipython",
    "version": 3
   },
   "file_extension": ".py",
   "mimetype": "text/x-python",
   "name": "python",
   "nbconvert_exporter": "python",
   "pygments_lexer": "ipython3",
   "version": "3.6.7"
  }
 },
 "nbformat": 4,
 "nbformat_minor": 2
}
